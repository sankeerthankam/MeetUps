{
 "cells": [
  {
   "cell_type": "markdown",
   "metadata": {},
   "source": [
    "# <center> Network Analysis - Part 1"
   ]
  },
  {
   "cell_type": "markdown",
   "metadata": {},
   "source": [
    "## I. Basic of Network Analysis"
   ]
  },
  {
   "cell_type": "markdown",
   "metadata": {},
   "source": [
    "“A picture speaks a thousand words” is one of the most commonly used phrases. But a graph speaks so much more than that. A visual representation of data, in the form of graphs, not only helps us gain actionable insights but also makes us take better decisions.\n",
    "\n",
    "To truly understand what graphs are and why they are used in Data Science, we need to understand what a Graph Theory is. "
   ]
  },
  {
   "cell_type": "markdown",
   "metadata": {},
   "source": [
    "**Network vs Edges:**\n",
    "A network consists of `Nodes` and `Edges`. Together, they form a Graph\n",
    "\n",
    "** Network Analysis :** Network Analysis or Network theory is the study of symmetric relations or asymmetric relations between the nodes. \n",
    "\n",
    "Often in the real-world, the terms 'Graph', 'Network' and 'Graph Network' are used interchangebly, especially in Data Science related applications."
   ]
  },
  {
   "cell_type": "markdown",
   "metadata": {},
   "source": [
    "<img src=\"img\\Nodes_Edges_Graph.png\">\n",
    "\n",
    "Nodes represent Entites such as individuals in a social network while Edges represent relationships between the entities."
   ]
  },
  {
   "cell_type": "markdown",
   "metadata": {},
   "source": [
    "** Metadata:** Nodes and Edges can have associated information to it called Metadata."
   ]
  },
  {
   "cell_type": "markdown",
   "metadata": {},
   "source": [
    "<img src=\"img/Attributes.png\">"
   ]
  },
  {
   "cell_type": "markdown",
   "metadata": {},
   "source": [
    "In the below example:\n",
    "\n",
    "- Nodes (Hugo, Eric)\n",
    "- Metadata (id, age)\n",
    "\n",
    "- Edge (Friendship)\n",
    "- Metadata (date)"
   ]
  },
  {
   "cell_type": "markdown",
   "metadata": {},
   "source": [
    "** Applications: ** \n",
    "\n",
    "The applications of Graphs in Data Analytics are numerous and vast:\n",
    "\n",
    "Marketing Analytics – Graphs can be used to figure out the most influential people in a Social Network. Advertisers and Marketers can estimate the biggest bang for the marketing buck by routing their message through the most influential people in a Social Network\n",
    "\n",
    "Banking Transactions – Graphs can be used to find unusual patterns helping in mitigating Fraudulent transactions. There have been examples where Terrorist activity has been detected by analyzing the flow of money across interconnected Banking networks\n",
    "\n",
    "Supply Chain – Graphs help in identifying optimum routes for your delivery trucks and in identifying locations for warehouses and delivery centres\n",
    "\n",
    "Telecom – Telecom companies typically use Graphs (Voronoi diagrams) to understand the quantity and location of Cell towers to ensure maximum coverage"
   ]
  },
  {
   "cell_type": "markdown",
   "metadata": {},
   "source": [
    "** Why Graphs?:**\n",
    "\n",
    "- Graphs provide a better way of dealing with abstract concepts like relationships and interactions \n",
    "- Graphs are used to model analytics workflows in the form of DAGs (Directed acyclic graphs)\n",
    "- Graph Theory concepts are used to model Fraud patterns, Power consumption patterns and Virality of articles and videos. "
   ]
  },
  {
   "cell_type": "markdown",
   "metadata": {},
   "source": []
  },
  {
   "cell_type": "markdown",
   "metadata": {},
   "source": [
    "## II. NetworkX: \n",
    "\n",
    "`NetworkX` is the library to use to model, analyze and visualize the network data."
   ]
  },
  {
   "cell_type": "markdown",
   "metadata": {},
   "source": [
    "### (i) Nodes and Edges"
   ]
  },
  {
   "cell_type": "code",
   "execution_count": 1,
   "metadata": {
    "collapsed": true
   },
   "outputs": [],
   "source": [
    "import networkx as nx            # Import NetworkX API \n",
    "import matplotlib.pyplot as plt  # Import Matplotlib"
   ]
  },
  {
   "cell_type": "code",
   "execution_count": 2,
   "metadata": {
    "collapsed": true
   },
   "outputs": [],
   "source": [
    "G = nx.Graph()                   # Initialize an empty graph\n",
    "G.add_nodes_from([1, 2, 3])      # Adds Nodes to the graph"
   ]
  },
  {
   "cell_type": "code",
   "execution_count": 3,
   "metadata": {},
   "outputs": [
    {
     "data": {
      "text/plain": [
       "[1, 2, 3]"
      ]
     },
     "execution_count": 3,
     "metadata": {},
     "output_type": "execute_result"
    }
   ],
   "source": [
    "G.nodes()                        # List of nodes in the graph "
   ]
  },
  {
   "cell_type": "code",
   "execution_count": 4,
   "metadata": {
    "collapsed": true
   },
   "outputs": [],
   "source": [
    "G.add_edge(1, 2)                 # Adds Edges to the graph"
   ]
  },
  {
   "cell_type": "code",
   "execution_count": 5,
   "metadata": {},
   "outputs": [
    {
     "data": {
      "text/plain": [
       "[(1, 2)]"
      ]
     },
     "execution_count": 5,
     "metadata": {},
     "output_type": "execute_result"
    }
   ],
   "source": [
    "G.edges()                        # List of edges in the graph"
   ]
  },
  {
   "cell_type": "code",
   "execution_count": null,
   "metadata": {
    "collapsed": true
   },
   "outputs": [],
   "source": []
  },
  {
   "cell_type": "markdown",
   "metadata": {},
   "source": [
    "### (ii) Metadata"
   ]
  },
  {
   "cell_type": "code",
   "execution_count": 6,
   "metadata": {
    "collapsed": true
   },
   "outputs": [],
   "source": [
    "G.node[1]['label'] = 'blue'      # Adds metadata to the node"
   ]
  },
  {
   "cell_type": "code",
   "execution_count": 7,
   "metadata": {},
   "outputs": [
    {
     "data": {
      "text/plain": [
       "[(1, {'label': 'blue'}), (2, {}), (3, {})]"
      ]
     },
     "execution_count": 7,
     "metadata": {},
     "output_type": "execute_result"
    }
   ],
   "source": [
    "G.nodes(data = True)             # Access metadata "
   ]
  },
  {
   "cell_type": "code",
   "execution_count": null,
   "metadata": {
    "collapsed": true
   },
   "outputs": [],
   "source": []
  },
  {
   "cell_type": "markdown",
   "metadata": {
    "collapsed": true
   },
   "source": [
    "### (iii) Draw"
   ]
  },
  {
   "cell_type": "code",
   "execution_count": 10,
   "metadata": {},
   "outputs": [
    {
     "name": "stderr",
     "output_type": "stream",
     "text": [
      "C:\\Users\\Nishu\\Anaconda3\\Lib\\site-packages\\networkx\\drawing\\nx_pylab.py:126: MatplotlibDeprecationWarning: pyplot.hold is deprecated.\n",
      "    Future behavior will be consistent with the long-time default:\n",
      "    plot commands add elements without first clearing the\n",
      "    Axes and/or Figure.\n",
      "  b = plt.ishold()\n",
      "C:\\Users\\Nishu\\Anaconda3\\Lib\\site-packages\\networkx\\drawing\\nx_pylab.py:522: MatplotlibDeprecationWarning: The is_string_like function was deprecated in version 2.1.\n",
      "  if not cb.is_string_like(edge_color) \\\n",
      "C:\\Users\\Nishu\\Anaconda3\\Lib\\site-packages\\networkx\\drawing\\nx_pylab.py:543: MatplotlibDeprecationWarning: The is_string_like function was deprecated in version 2.1.\n",
      "  if cb.is_string_like(edge_color) or len(edge_color) == 1:\n",
      "C:\\Users\\Nishu\\Anaconda3\\Lib\\site-packages\\networkx\\drawing\\nx_pylab.py:724: MatplotlibDeprecationWarning: The is_string_like function was deprecated in version 2.1.\n",
      "  if not cb.is_string_like(label):\n",
      "C:\\Users\\Nishu\\Anaconda3\\Lib\\site-packages\\networkx\\drawing\\nx_pylab.py:138: MatplotlibDeprecationWarning: pyplot.hold is deprecated.\n",
      "    Future behavior will be consistent with the long-time default:\n",
      "    plot commands add elements without first clearing the\n",
      "    Axes and/or Figure.\n",
      "  plt.hold(b)\n",
      "C:\\Users\\Nishu\\Anaconda3\\Lib\\site-packages\\matplotlib\\__init__.py:911: MatplotlibDeprecationWarning: axes.hold is deprecated. Please remove it from your matplotlibrc and/or style files.\n",
      "  mplDeprecation)\n",
      "C:\\Users\\Nishu\\Anaconda3\\Lib\\site-packages\\matplotlib\\rcsetup.py:156: MatplotlibDeprecationWarning: axes.hold is deprecated, will be removed in 3.0\n",
      "  mplDeprecation)\n"
     ]
    },
    {
     "data": {
      "image/png": "[encoded data removed]",
      "text/plain": [
       "<Figure size 432x288 with 1 Axes>"
      ]
     },
     "metadata": {},
     "output_type": "display_data"
    }
   ],
   "source": [
    "nx.draw(G, with_labels=True)                       # Draws a Node-Link diagram of the Graph \n",
    "plt.show()"
   ]
  },
  {
   "cell_type": "code",
   "execution_count": null,
   "metadata": {
    "collapsed": true
   },
   "outputs": [],
   "source": []
  },
  {
   "cell_type": "markdown",
   "metadata": {},
   "source": [
    "## III. Analyzing Twitter Data"
   ]
  },
  {
   "cell_type": "code",
   "execution_count": 8,
   "metadata": {
    "collapsed": true
   },
   "outputs": [],
   "source": [
    "import os\n",
    "import pickle"
   ]
  },
  {
   "cell_type": "code",
   "execution_count": 9,
   "metadata": {
    "collapsed": true
   },
   "outputs": [],
   "source": [
    "with open('data/twitter.p', 'rb') as f:\n",
    "    x = nx.read_gpickle(f)"
   ]
  },
  {
   "cell_type": "markdown",
   "metadata": {
    "collapsed": true
   },
   "source": [
    "test = nx.read_gpickle(\"data/twitter.p\")"
   ]
  },
  {
   "cell_type": "code",
   "execution_count": 66,
   "metadata": {},
   "outputs": [
    {
     "data": {
      "text/plain": [
       "networkx.classes.digraph.DiGraph"
      ]
     },
     "execution_count": 66,
     "metadata": {},
     "output_type": "execute_result"
    }
   ],
   "source": [
    "type(x)"
   ]
  },
  {
   "cell_type": "code",
   "execution_count": 41,
   "metadata": {},
   "outputs": [
    {
     "data": {
      "text/plain": [
       "[(1, {'category': 'I', 'occupation': 'scientist'}),\n",
       " (3, {'category': 'P', 'occupation': 'politician'}),\n",
       " (4, {'category': 'D', 'occupation': 'celebrity'}),\n",
       " (5, {'category': 'I', 'occupation': 'politician'}),\n",
       " (6, {'category': 'D', 'occupation': 'politician'}),\n",
       " (7, {'category': 'D', 'occupation': 'scientist'}),\n",
       " (8, {'category': 'I', 'occupation': 'celebrity'}),\n",
       " (9, {'category': 'D', 'occupation': 'celebrity'}),\n",
       " (10, {'category': 'I', 'occupation': 'celebrity'}),\n",
       " (11, {'category': 'I', 'occupation': 'celebrity'})]"
      ]
     },
     "execution_count": 41,
     "metadata": {},
     "output_type": "execute_result"
    }
   ],
   "source": [
    "x.nodes(data = True)[:10]"
   ]
  },
  {
   "cell_type": "code",
   "execution_count": 44,
   "metadata": {},
   "outputs": [],
   "source": [
    "x_n = [(n, d) for n, d in x.nodes(data = True)][:100]"
   ]
  },
  {
   "cell_type": "code",
   "execution_count": 42,
   "metadata": {
    "collapsed": true
   },
   "outputs": [],
   "source": [
    "e_n = [(u, v, d) for u, v, d in x.edges(data = True) if u in x_n if v in x_n ]"
   ]
  },
  {
   "cell_type": "code",
   "execution_count": 45,
   "metadata": {
    "collapsed": true
   },
   "outputs": [],
   "source": [
    "G = nx.Graph()"
   ]
  },
  {
   "cell_type": "code",
   "execution_count": 46,
   "metadata": {},
   "outputs": [],
   "source": [
    "G.add_nodes_from(x_n)\n",
    "G.add_edges_from(e_n)"
   ]
  },
  {
   "cell_type": "markdown",
   "metadata": {},
   "source": [
    "<div class = \"alert alert-warning\">\n",
    "  <strong> NetworkX does not support reading the current version of Twitter pickled file!</strong> \n",
    "</div>"
   ]
  },
  {
   "cell_type": "markdown",
   "metadata": {},
   "source": [
    "** Manually create Nodes and Edges of `Twitter` data **"
   ]
  },
  {
   "cell_type": "code",
   "execution_count": 69,
   "metadata": {},
   "outputs": [
    {
     "data": {
      "text/plain": [
       "23369"
      ]
     },
     "execution_count": 69,
     "metadata": {},
     "output_type": "execute_result"
    }
   ],
   "source": [
    "len(x.nodes())"
   ]
  },
  {
   "cell_type": "code",
   "execution_count": 68,
   "metadata": {},
   "outputs": [
    {
     "data": {
      "text/plain": [
       "[1, 3, 4, 5, 6, 7, 8, 9, 10, 11]"
      ]
     },
     "execution_count": 68,
     "metadata": {},
     "output_type": "execute_result"
    }
   ],
   "source": [
    "x.nodes()[:10]"
   ]
  },
  {
   "cell_type": "code",
   "execution_count": 71,
   "metadata": {},
   "outputs": [
    {
     "data": {
      "text/plain": [
       "[(1, {'category': 'I', 'occupation': 'scientist'}),\n",
       " (3, {'category': 'P', 'occupation': 'politician'}),\n",
       " (4, {'category': 'D', 'occupation': 'celebrity'}),\n",
       " (5, {'category': 'I', 'occupation': 'politician'}),\n",
       " (6, {'category': 'D', 'occupation': 'politician'}),\n",
       " (7, {'category': 'D', 'occupation': 'scientist'}),\n",
       " (8, {'category': 'I', 'occupation': 'celebrity'}),\n",
       " (9, {'category': 'D', 'occupation': 'celebrity'}),\n",
       " (10, {'category': 'I', 'occupation': 'celebrity'}),\n",
       " (11, {'category': 'I', 'occupation': 'celebrity'})]"
      ]
     },
     "execution_count": 71,
     "metadata": {},
     "output_type": "execute_result"
    }
   ],
   "source": [
    "x.nodes(data = True)[:10]"
   ]
  },
  {
   "cell_type": "code",
   "execution_count": 73,
   "metadata": {},
   "outputs": [
    {
     "data": {
      "text/plain": [
       "33142"
      ]
     },
     "execution_count": 73,
     "metadata": {},
     "output_type": "execute_result"
    }
   ],
   "source": [
    "len(x.edges())"
   ]
  },
  {
   "cell_type": "code",
   "execution_count": 74,
   "metadata": {},
   "outputs": [
    {
     "data": {
      "text/plain": [
       "[(1, 3),\n",
       " (1, 4),\n",
       " (1, 5),\n",
       " (1, 6),\n",
       " (1, 7),\n",
       " (1, 8),\n",
       " (1, 9),\n",
       " (1, 10),\n",
       " (1, 11),\n",
       " (1, 12)]"
      ]
     },
     "execution_count": 74,
     "metadata": {},
     "output_type": "execute_result"
    }
   ],
   "source": [
    "x.edges()[:10]"
   ]
  },
  {
   "cell_type": "code",
   "execution_count": 75,
   "metadata": {},
   "outputs": [
    {
     "data": {
      "text/plain": [
       "[(1, 3, {'date': datetime.date(2012, 11, 17)}),\n",
       " (1, 4, {'date': datetime.date(2007, 6, 19)}),\n",
       " (1, 5, {'date': datetime.date(2014, 3, 18)}),\n",
       " (1, 6, {'date': datetime.date(2007, 3, 18)}),\n",
       " (1, 7, {'date': datetime.date(2011, 12, 19)}),\n",
       " (1, 8, {'date': datetime.date(2013, 12, 7)}),\n",
       " (1, 9, {'date': datetime.date(2009, 11, 9)}),\n",
       " (1, 10, {'date': datetime.date(2008, 10, 7)}),\n",
       " (1, 11, {'date': datetime.date(2008, 8, 14)}),\n",
       " (1, 12, {'date': datetime.date(2011, 3, 22)})]"
      ]
     },
     "execution_count": 75,
     "metadata": {},
     "output_type": "execute_result"
    }
   ],
   "source": [
    "x.edges(data = True)[:10]"
   ]
  },
  {
   "cell_type": "code",
   "execution_count": null,
   "metadata": {
    "collapsed": true
   },
   "outputs": [],
   "source": []
  },
  {
   "cell_type": "markdown",
   "metadata": {},
   "source": [
    "<div class = \"alert alert-warning\">\n",
    "  <strong> The pickle file is huge and would raise a Memory error if I plot using my local machine's computation. Hence, I have picked a handful of nodes and edges and visualized the network diagram for the graph. </strong> \n",
    "</div>"
   ]
  },
  {
   "cell_type": "code",
   "execution_count": 49,
   "metadata": {},
   "outputs": [
    {
     "name": "stderr",
     "output_type": "stream",
     "text": [
      "C:\\Users\\Nishu\\Anaconda3\\Lib\\site-packages\\networkx\\drawing\\nx_pylab.py:126: MatplotlibDeprecationWarning: pyplot.hold is deprecated.\n",
      "    Future behavior will be consistent with the long-time default:\n",
      "    plot commands add elements without first clearing the\n",
      "    Axes and/or Figure.\n",
      "  b = plt.ishold()\n",
      "C:\\Users\\Nishu\\Anaconda3\\Lib\\site-packages\\networkx\\drawing\\nx_pylab.py:522: MatplotlibDeprecationWarning: The is_string_like function was deprecated in version 2.1.\n",
      "  if not cb.is_string_like(edge_color) \\\n",
      "C:\\Users\\Nishu\\Anaconda3\\Lib\\site-packages\\networkx\\drawing\\nx_pylab.py:543: MatplotlibDeprecationWarning: The is_string_like function was deprecated in version 2.1.\n",
      "  if cb.is_string_like(edge_color) or len(edge_color) == 1:\n",
      "C:\\Users\\Nishu\\Anaconda3\\Lib\\site-packages\\networkx\\drawing\\nx_pylab.py:138: MatplotlibDeprecationWarning: pyplot.hold is deprecated.\n",
      "    Future behavior will be consistent with the long-time default:\n",
      "    plot commands add elements without first clearing the\n",
      "    Axes and/or Figure.\n",
      "  plt.hold(b)\n",
      "C:\\Users\\Nishu\\Anaconda3\\Lib\\site-packages\\matplotlib\\__init__.py:911: MatplotlibDeprecationWarning: axes.hold is deprecated. Please remove it from your matplotlibrc and/or style files.\n",
      "  mplDeprecation)\n",
      "C:\\Users\\Nishu\\Anaconda3\\Lib\\site-packages\\matplotlib\\rcsetup.py:156: MatplotlibDeprecationWarning: axes.hold is deprecated, will be removed in 3.0\n",
      "  mplDeprecation)\n"
     ]
    },
    {
     "data": {
      "image/png": "[encoded data removed]",
      "text/plain": [
       "<Figure size 432x288 with 1 Axes>"
      ]
     },
     "metadata": {},
     "output_type": "display_data"
    }
   ],
   "source": [
    "nx.draw(G)              # Draw the graph to screen\n",
    "plt.show()"
   ]
  },
  {
   "cell_type": "markdown",
   "metadata": {},
   "source": [
    "** Note:** The red circles are the nodes and the black lines are the edges."
   ]
  },
  {
   "cell_type": "code",
   "execution_count": null,
   "metadata": {
    "collapsed": true
   },
   "outputs": [],
   "source": []
  },
  {
   "cell_type": "code",
   "execution_count": 50,
   "metadata": {
    "scrolled": true
   },
   "outputs": [
    {
     "name": "stdout",
     "output_type": "stream",
     "text": [
      "1 {'occupation': 'scientist', 'category': 'I'}\n",
      "7 {'occupation': 'scientist', 'category': 'D'}\n",
      "12 {'occupation': 'scientist', 'category': 'I'}\n",
      "18 {'occupation': 'scientist', 'category': 'P'}\n",
      "19 {'occupation': 'scientist', 'category': 'P'}\n",
      "23 {'occupation': 'scientist', 'category': 'D'}\n",
      "30 {'occupation': 'scientist', 'category': 'I'}\n",
      "31 {'occupation': 'scientist', 'category': 'P'}\n",
      "33 {'occupation': 'scientist', 'category': 'P'}\n",
      "36 {'occupation': 'scientist', 'category': 'I'}\n",
      "38 {'occupation': 'scientist', 'category': 'I'}\n",
      "39 {'occupation': 'scientist', 'category': 'P'}\n",
      "45 {'occupation': 'scientist', 'category': 'D'}\n",
      "48 {'occupation': 'scientist', 'category': 'P'}\n",
      "53 {'occupation': 'scientist', 'category': 'P'}\n",
      "59 {'occupation': 'scientist', 'category': 'D'}\n",
      "69 {'occupation': 'scientist', 'category': 'I'}\n",
      "71 {'occupation': 'scientist', 'category': 'P'}\n",
      "81 {'occupation': 'scientist', 'category': 'D'}\n",
      "82 {'occupation': 'scientist', 'category': 'D'}\n",
      "83 {'occupation': 'scientist', 'category': 'I'}\n",
      "85 {'occupation': 'scientist', 'category': 'I'}\n",
      "101 {'occupation': 'scientist', 'category': 'I'}\n"
     ]
    }
   ],
   "source": [
    "# Choose Nodes with a specific occupation\n",
    "for n, d in G.nodes(data = True):\n",
    "    if d['occupation'] == 'scientist':\n",
    "        print(n, d)"
   ]
  },
  {
   "cell_type": "code",
   "execution_count": 56,
   "metadata": {
    "collapsed": true
   },
   "outputs": [],
   "source": [
    "# Choose Nodes with a specific occupation - List Comprehension\n",
    "noi = [n for n, d in G.nodes(data = True) if d['occupation'] == 'scientist']"
   ]
  },
  {
   "cell_type": "code",
   "execution_count": 57,
   "metadata": {},
   "outputs": [
    {
     "data": {
      "text/plain": [
       "[1,\n",
       " 7,\n",
       " 12,\n",
       " 18,\n",
       " 19,\n",
       " 23,\n",
       " 30,\n",
       " 31,\n",
       " 33,\n",
       " 36,\n",
       " 38,\n",
       " 39,\n",
       " 45,\n",
       " 48,\n",
       " 53,\n",
       " 59,\n",
       " 69,\n",
       " 71,\n",
       " 81,\n",
       " 82,\n",
       " 83,\n",
       " 85,\n",
       " 101]"
      ]
     },
     "execution_count": 57,
     "metadata": {},
     "output_type": "execute_result"
    }
   ],
   "source": [
    "noi"
   ]
  },
  {
   "cell_type": "code",
   "execution_count": 54,
   "metadata": {
    "collapsed": true
   },
   "outputs": [],
   "source": [
    "import datetime"
   ]
  },
  {
   "cell_type": "code",
   "execution_count": 55,
   "metadata": {
    "scrolled": true
   },
   "outputs": [
    {
     "name": "stdout",
     "output_type": "stream",
     "text": [
      "2007-06-19\n",
      "2007-03-18\n",
      "2009-11-09\n",
      "2008-10-07\n",
      "2008-08-14\n",
      "2007-05-19\n",
      "2009-12-13\n",
      "2007-07-08\n",
      "2007-09-14\n",
      "2007-03-17\n",
      "2009-02-19\n",
      "2007-03-17\n",
      "2007-11-02\n",
      "2007-08-19\n",
      "2009-08-02\n",
      "2008-09-23\n",
      "2008-10-18\n",
      "2008-12-09\n",
      "2009-04-19\n",
      "2007-10-27\n",
      "2007-07-14\n",
      "2008-07-06\n",
      "2009-04-12\n",
      "2009-01-26\n",
      "2007-05-19\n",
      "2008-05-19\n",
      "2008-06-28\n",
      "2008-05-16\n",
      "2007-07-23\n",
      "2009-05-23\n",
      "2008-10-20\n",
      "2008-08-12\n",
      "2008-03-19\n",
      "2008-03-04\n",
      "2009-11-06\n",
      "2009-11-22\n",
      "2009-04-19\n",
      "2009-08-12\n",
      "2009-05-10\n",
      "2007-12-07\n",
      "2007-10-06\n",
      "2008-11-05\n",
      "2008-01-21\n",
      "2008-05-25\n",
      "2007-08-24\n",
      "2007-01-05\n",
      "2009-03-13\n",
      "2009-07-07\n",
      "2008-09-02\n",
      "2009-02-10\n",
      "2009-07-19\n",
      "2009-12-20\n",
      "2009-10-14\n",
      "2008-06-10\n",
      "2008-12-13\n",
      "2009-09-01\n",
      "2009-01-28\n",
      "2007-07-18\n",
      "2008-03-19\n"
     ]
    }
   ],
   "source": [
    "# Choose Edges of interest\n",
    "for a, b, c in G.edges(data = True):\n",
    "    if c['date'] < datetime.date(2010, 1, 1):\n",
    "        print(c['date'])"
   ]
  },
  {
   "cell_type": "code",
   "execution_count": 60,
   "metadata": {
    "collapsed": true
   },
   "outputs": [],
   "source": [
    "# Choose Edges of interest - List Comprehension\n",
    "eoi = [ (a, b) for a, b, c in G.edges(data = True) if c['date'] < datetime.date(2010, 1, 1)]"
   ]
  },
  {
   "cell_type": "code",
   "execution_count": 61,
   "metadata": {
    "scrolled": true
   },
   "outputs": [
    {
     "data": {
      "text/plain": [
       "[(1, 4),\n",
       " (1, 6),\n",
       " (1, 9),\n",
       " (1, 10),\n",
       " (1, 11),\n",
       " (1, 14),\n",
       " (1, 15),\n",
       " (1, 24),\n",
       " (1, 26),\n",
       " (1, 34),\n",
       " (1, 37),\n",
       " (1, 38),\n",
       " (1, 44),\n",
       " (1, 48),\n",
       " (11, 19),\n",
       " (13, 19),\n",
       " (14, 28),\n",
       " (15, 28),\n",
       " (16, 35),\n",
       " (16, 48),\n",
       " (16, 36),\n",
       " (19, 21),\n",
       " (19, 24),\n",
       " (19, 31),\n",
       " (24, 28),\n",
       " (24, 36),\n",
       " (27, 28),\n",
       " (28, 29),\n",
       " (28, 31),\n",
       " (28, 44),\n",
       " (29, 43),\n",
       " (33, 39),\n",
       " (35, 36),\n",
       " (35, 43),\n",
       " (36, 39),\n",
       " (37, 43),\n",
       " (38, 39),\n",
       " (39, 41),\n",
       " (41, 45),\n",
       " (43, 48),\n",
       " (50, 57),\n",
       " (50, 58),\n",
       " (63, 67),\n",
       " (63, 71),\n",
       " (63, 72),\n",
       " (63, 74),\n",
       " (64, 75),\n",
       " (65, 75),\n",
       " (66, 70),\n",
       " (67, 75),\n",
       " (71, 75),\n",
       " (72, 75),\n",
       " (75, 82),\n",
       " (84, 85),\n",
       " (84, 87),\n",
       " (84, 91),\n",
       " (84, 93),\n",
       " (94, 97),\n",
       " (94, 101)]"
      ]
     },
     "execution_count": 61,
     "metadata": {},
     "output_type": "execute_result"
    }
   ],
   "source": [
    "eoi"
   ]
  },
  {
   "cell_type": "code",
   "execution_count": null,
   "metadata": {
    "collapsed": true
   },
   "outputs": [],
   "source": []
  },
  {
   "cell_type": "markdown",
   "metadata": {},
   "source": [
    "## IV. Types of Graphs"
   ]
  },
  {
   "cell_type": "markdown",
   "metadata": {},
   "source": [
    "NetworkX supports following types of graphs:\n",
    "- Undirected Graphs\n",
    "- Directed Graphs"
   ]
  },
  {
   "cell_type": "markdown",
   "metadata": {},
   "source": [
    "### (i) Undirected Graph \n",
    "- This graph comprises of node and edges with no direction. <br>\n",
    "**Example:** A facebook social graph. When you are friend with someone then automatically both of them are friends.  \n",
    "\n",
    "<img src=\"img/Undirected Graph.png\">"
   ]
  },
  {
   "cell_type": "code",
   "execution_count": 62,
   "metadata": {},
   "outputs": [
    {
     "data": {
      "text/plain": [
       "networkx.classes.graph.Graph"
      ]
     },
     "execution_count": 62,
     "metadata": {},
     "output_type": "execute_result"
    }
   ],
   "source": [
    "G1 = nx.Graph()\n",
    "type(G)"
   ]
  },
  {
   "cell_type": "markdown",
   "metadata": {},
   "source": [
    "###  (ii) Directed Graph \n",
    "- This graph comprises of node and edges with a direction associated between the nodes. <br>\n",
    "**Example:** A Twitter social graph. When you follow someone then it doesn't actually mean the other person follows you back.  \n",
    "\n",
    "<img src=\"img/Directed Graph.png\">"
   ]
  },
  {
   "cell_type": "code",
   "execution_count": 63,
   "metadata": {},
   "outputs": [
    {
     "data": {
      "text/plain": [
       "networkx.classes.digraph.DiGraph"
      ]
     },
     "execution_count": 63,
     "metadata": {},
     "output_type": "execute_result"
    }
   ],
   "source": [
    "D = nx.DiGraph()\n",
    "type(D)"
   ]
  },
  {
   "cell_type": "markdown",
   "metadata": {},
   "source": [
    "### (iii) Multi DiGraph: \n",
    "- Graphs with multiple edges between two nodes. <br>\n",
    "Example: Road trips between bike sharing stations.\n",
    "\n",
    "<img src=\"img/MultiDirected Graph.png\">"
   ]
  },
  {
   "cell_type": "markdown",
   "metadata": {},
   "source": [
    "One trip between Node 1 to Node 2 can be represented by an edge. A three trips between these nodes can be represented by three edges. "
   ]
  },
  {
   "cell_type": "code",
   "execution_count": 64,
   "metadata": {},
   "outputs": [
    {
     "data": {
      "text/plain": [
       "networkx.classes.multigraph.MultiGraph"
      ]
     },
     "execution_count": 64,
     "metadata": {},
     "output_type": "execute_result"
    }
   ],
   "source": [
    "M = nx.MultiGraph()\n",
    "type(M)"
   ]
  },
  {
   "cell_type": "markdown",
   "metadata": {},
   "source": [
    "**Note:** Things can get clumsier when multiple nodes have more than 3 edges associated between them."
   ]
  },
  {
   "cell_type": "markdown",
   "metadata": {},
   "source": [
    "### (iv) Weighted Graph\n",
    "- Instead of having three edges between the nodes, you can assign weights to the edges as below: \n",
    "\n",
    "<img src=\"img/Weighted Graph.png\">"
   ]
  },
  {
   "cell_type": "code",
   "execution_count": 65,
   "metadata": {},
   "outputs": [
    {
     "data": {
      "text/plain": [
       "networkx.classes.multidigraph.MultiDiGraph"
      ]
     },
     "execution_count": 65,
     "metadata": {},
     "output_type": "execute_result"
    }
   ],
   "source": [
    "MD = nx.MultiDiGraph()\n",
    "type(MD)"
   ]
  },
  {
   "cell_type": "code",
   "execution_count": null,
   "metadata": {
    "collapsed": true
   },
   "outputs": [],
   "source": []
  },
  {
   "cell_type": "markdown",
   "metadata": {},
   "source": [
    "## (v) Self-Loop\n",
    "- Nodes that are connected to theemselves.\n",
    "\n",
    "<img src=\"img/self-loops.png\">"
   ]
  },
  {
   "cell_type": "code",
   "execution_count": 63,
   "metadata": {},
   "outputs": [
    {
     "data": {
      "text/plain": [
       "networkx.classes.digraph.DiGraph"
      ]
     },
     "execution_count": 63,
     "metadata": {},
     "output_type": "execute_result"
    }
   ],
   "source": [
    "D = nx.DiGraph()\n",
    "type(D)"
   ]
  },
  {
   "cell_type": "code",
   "execution_count": 66,
   "metadata": {
    "collapsed": true
   },
   "outputs": [],
   "source": [
    "# Function to find self-loops \n",
    "def find_selfloop_nodes(G):\n",
    "    \n",
    "    nodes_in_selfloops = []\n",
    "    \n",
    "    for u, v in G.edges():               # Iterate over all the edges of G    \n",
    "        if u == v:                       # Check if node u and node v are the same\n",
    "            nodes_in_selfloops.append(u) # Append node u to nodes_in_selfloops\n",
    "            \n",
    "    return nodes_in_selfloops, len(nodes_in_selfloops)            # Return nodes with self-loops"
   ]
  },
  {
   "cell_type": "code",
   "execution_count": 71,
   "metadata": {
    "scrolled": true
   },
   "outputs": [],
   "source": [
    "# Number of self-loops in the Directed graph 'D'\n",
    "self_loops, num_of_self_loops = find_selfloop_nodes(x)"
   ]
  },
  {
   "cell_type": "code",
   "execution_count": 72,
   "metadata": {},
   "outputs": [
    {
     "data": {
      "text/plain": [
       "42"
      ]
     },
     "execution_count": 72,
     "metadata": {},
     "output_type": "execute_result"
    }
   ],
   "source": [
    "num_of_self_loops"
   ]
  },
  {
   "cell_type": "code",
   "execution_count": 73,
   "metadata": {
    "scrolled": true
   },
   "outputs": [
    {
     "data": {
      "text/plain": [
       "[365,\n",
       " 1201,\n",
       " 1851,\n",
       " 2124,\n",
       " 3713,\n",
       " 3753,\n",
       " 3824,\n",
       " 5881,\n",
       " 6420,\n",
       " 6610,\n",
       " 6892,\n",
       " 7430,\n",
       " 7853,\n",
       " 8220,\n",
       " 8289,\n",
       " 8580,\n",
       " 8822,\n",
       " 8881,\n",
       " 9370,\n",
       " 9919,\n",
       " 10194,\n",
       " 10913,\n",
       " 12177,\n",
       " 13116,\n",
       " 13246,\n",
       " 14919,\n",
       " 15987,\n",
       " 16492,\n",
       " 16823,\n",
       " 17393,\n",
       " 18913,\n",
       " 19173,\n",
       " 19231,\n",
       " 19617,\n",
       " 19806,\n",
       " 21026,\n",
       " 21239,\n",
       " 21636,\n",
       " 21759,\n",
       " 22101,\n",
       " 22374,\n",
       " 22547]"
      ]
     },
     "execution_count": 73,
     "metadata": {},
     "output_type": "execute_result"
    }
   ],
   "source": [
    "self_loops"
   ]
  },
  {
   "cell_type": "code",
   "execution_count": null,
   "metadata": {
    "collapsed": true
   },
   "outputs": [],
   "source": []
  },
  {
   "cell_type": "markdown",
   "metadata": {},
   "source": [
    "## V. Network Visualization"
   ]
  },
  {
   "cell_type": "markdown",
   "metadata": {},
   "source": [
    "- Matrix Plots\n",
    "- Arc Plots\n",
    "- Circos Plots"
   ]
  },
  {
   "cell_type": "markdown",
   "metadata": {},
   "source": [
    "### Matrix Plots\n",
    "In a matrix plot, the rows and columns are the nodes of the graph and the cells are filled based on whether there is a edge between the respective nodes.\n",
    "\n",
    "For the following undirected graph,\n",
    "\n",
    "<img src=\"img/Matrix_Plot_1.png\">\n",
    "\n",
    "The matrix plot looks like this:\n",
    "\n",
    "<img src=\"img/Matrix_Plot_2.png\">\n",
    "\n",
    "**Note:** Since the above graph is undirected, the matrix plot is symmetrical along the diagonal. "
   ]
  },
  {
   "cell_type": "markdown",
   "metadata": {},
   "source": [
    "The matrix representation of a directed graph is not necessarily symmetrical along the diagonal. \n",
    "\n",
    "For the following directed graph,\n",
    "\n",
    "<img src=\"img/Matrix_Plot_3.png\">\n",
    "\n",
    "The matrix plot looks like this:\n",
    "\n",
    "<img src=\"img/Matrix_Plot_4.png\">\n",
    "\n",
    "**Note:** The matrix plot is NOT symmetrical along the diagonal. "
   ]
  },
  {
   "cell_type": "code",
   "execution_count": null,
   "metadata": {
    "collapsed": true
   },
   "outputs": [],
   "source": []
  },
  {
   "cell_type": "markdown",
   "metadata": {},
   "source": [
    "### (ii) Arc Plots\n",
    "- Transformations of node-link diagram where nodes are ordered along one axis of the plot and edges are drawn using arcs between the nodes. \n",
    "\n",
    "For the undirected graph, \n",
    "\n",
    "<img src=\"img/Matrix_Plot_1.png\">\n",
    "\n",
    "The Arc plot looks like this:\n",
    "\n",
    "<img src=\"img/Arc_plot.png\">\n",
    "\n",
    "**Note:** The ordering can be `alphabetical`, `chronological` or based on a any `attribute of interest`."
   ]
  },
  {
   "cell_type": "code",
   "execution_count": null,
   "metadata": {
    "collapsed": true
   },
   "outputs": [],
   "source": []
  },
  {
   "cell_type": "markdown",
   "metadata": {},
   "source": [
    "### (iii) Circos Plot:\n",
    "A circos plot is the transformation of the arc plot such that the two ends of the arc plot are joined together to form a circle.\n",
    "\n",
    "<img src = \"img/Circos_Plot.png\">"
   ]
  },
  {
   "cell_type": "code",
   "execution_count": null,
   "metadata": {
    "collapsed": true
   },
   "outputs": [],
   "source": []
  },
  {
   "cell_type": "markdown",
   "metadata": {},
   "source": [
    "### Visualizing Matrix Plot"
   ]
  },
  {
   "cell_type": "code",
   "execution_count": 74,
   "metadata": {
    "collapsed": true
   },
   "outputs": [],
   "source": [
    "import nxviz as nv"
   ]
  },
  {
   "cell_type": "code",
   "execution_count": 75,
   "metadata": {},
   "outputs": [
    {
     "data": {
      "image/png": "[encoded data removed]",
      "text/plain": [
       "<Figure size 432x432 with 1 Axes>"
      ]
     },
     "metadata": {},
     "output_type": "display_data"
    }
   ],
   "source": [
    "m = nv.MatrixPlot(G)\n",
    "m.draw()\n",
    "plt.show()"
   ]
  },
  {
   "cell_type": "markdown",
   "metadata": {},
   "source": [
    "** Note: ** You can convert the graph to a nxn numpy array using `NetworkX` built-in function `to_numpy_matrix`"
   ]
  },
  {
   "cell_type": "code",
   "execution_count": 76,
   "metadata": {},
   "outputs": [
    {
     "data": {
      "text/plain": [
       "matrix([[ 0.,  1.,  1., ...,  0.,  0.,  0.],\n",
       "        [ 1.,  0.,  0., ...,  0.,  0.,  0.],\n",
       "        [ 1.,  0.,  0., ...,  0.,  0.,  0.],\n",
       "        ..., \n",
       "        [ 0.,  0.,  0., ...,  0.,  0.,  0.],\n",
       "        [ 0.,  0.,  0., ...,  0.,  0.,  0.],\n",
       "        [ 0.,  0.,  0., ...,  0.,  0.,  0.]])"
      ]
     },
     "execution_count": 76,
     "metadata": {},
     "output_type": "execute_result"
    }
   ],
   "source": [
    "# Convert T to a matrix format: A\n",
    "A = nx.to_numpy_matrix(G)\n",
    "A"
   ]
  },
  {
   "cell_type": "markdown",
   "metadata": {},
   "source": [
    "### Visualizing Arc Plot"
   ]
  },
  {
   "cell_type": "code",
   "execution_count": 77,
   "metadata": {},
   "outputs": [
    {
     "data": {
      "image/png": "[encoded data removed]",
      "text/plain": [
       "<Figure size 432x432 with 1 Axes>"
      ]
     },
     "metadata": {},
     "output_type": "display_data"
    }
   ],
   "source": [
    "from nxviz import ArcPlot          # Import necessary module\n",
    "\n",
    "a = ArcPlot(G)                     # Create the un-customized ArcPlot object: a\n",
    "a.draw()                           # Draw a to the screen\n",
    "plt.show()                         # Display the plot"
   ]
  },
  {
   "cell_type": "markdown",
   "metadata": {},
   "source": [
    "### Visualizing Circos Plot"
   ]
  },
  {
   "cell_type": "code",
   "execution_count": 78,
   "metadata": {},
   "outputs": [
    {
     "data": {
      "image/png": "[encoded data removed]",
      "text/plain": [
       "<Figure size 432x432 with 1 Axes>"
      ]
     },
     "metadata": {},
     "output_type": "display_data"
    }
   ],
   "source": [
    "from nxviz import CircosPlot        # Import necessary modules\n",
    "\n",
    "c = CircosPlot(G)                   # Create the CircosPlot object: c\n",
    "c.draw()                            # Draw c to the screen\n",
    "\n",
    "plt.show()                          # Display the plot"
   ]
  },
  {
   "cell_type": "markdown",
   "metadata": {},
   "source": [
    "** Note: ** The blue circles are the Nodes while the arcs are the edges. \n",
    "\n",
    "The nodes are sorted numerically."
   ]
  },
  {
   "cell_type": "code",
   "execution_count": null,
   "metadata": {
    "collapsed": true
   },
   "outputs": [],
   "source": []
  },
  {
   "cell_type": "markdown",
   "metadata": {},
   "source": [
    "## VI. Degree Centrality\n",
    "\n",
    "**Degree**: The degree of a node is the number of neighbors that it has. <br>\n",
    "**Degree Centrality** is used to find the most important node in a Graph. Mathemetically, it can be written as:"
   ]
  },
  {
   "cell_type": "markdown",
   "metadata": {},
   "source": [
    "$$ \\frac{​​Number​​of​​neighbors​​a​​given​​node​​of​​interest​​has​​}{​​Number​​of​​neighbors​​a​​given​​node​​of​​interest​​could​​possible​​have​​}  ​​$$"
   ]
  },
  {
   "cell_type": "markdown",
   "metadata": {},
   "source": [
    "**Note:** Depending on whether self-loops are allowed, the set of possible neighbors a node could have could also include the node itself."
   ]
  },
  {
   "cell_type": "markdown",
   "metadata": {},
   "source": [
    "Degree Centrality is useful in finding:\n",
    "- Social Influencers\n",
    "- Major Holiday Destinations"
   ]
  },
  {
   "cell_type": "code",
   "execution_count": 79,
   "metadata": {},
   "outputs": [
    {
     "data": {
      "text/plain": [
       "[1, 35, 18, 48, 36]"
      ]
     },
     "execution_count": 79,
     "metadata": {},
     "output_type": "execute_result"
    }
   ],
   "source": [
    "# Finding the neighbors of a node\n",
    "list(G.neighbors(16))"
   ]
  },
  {
   "cell_type": "code",
   "execution_count": 145,
   "metadata": {},
   "outputs": [
    {
     "ename": "NetworkXError",
     "evalue": "The node 2 is not in the digraph.",
     "output_type": "error",
     "traceback": [
      "\u001b[1;31m---------------------------------------------------------------------------\u001b[0m",
      "\u001b[1;31mKeyError\u001b[0m                                  Traceback (most recent call last)",
      "\u001b[1;32mC:\\Users\\Nishu\\Anaconda3\\Lib\\site-packages\\networkx\\classes\\digraph.py\u001b[0m in \u001b[0;36msuccessors\u001b[1;34m(self, n)\u001b[0m\n\u001b[0;32m    780\u001b[0m         \u001b[1;32mtry\u001b[0m\u001b[1;33m:\u001b[0m\u001b[1;33m\u001b[0m\u001b[0m\n\u001b[1;32m--> 781\u001b[1;33m             \u001b[1;32mreturn\u001b[0m \u001b[0miter\u001b[0m\u001b[1;33m(\u001b[0m\u001b[0mself\u001b[0m\u001b[1;33m.\u001b[0m\u001b[0m_succ\u001b[0m\u001b[1;33m[\u001b[0m\u001b[0mn\u001b[0m\u001b[1;33m]\u001b[0m\u001b[1;33m)\u001b[0m\u001b[1;33m\u001b[0m\u001b[0m\n\u001b[0m\u001b[0;32m    782\u001b[0m         \u001b[1;32mexcept\u001b[0m \u001b[0mKeyError\u001b[0m\u001b[1;33m:\u001b[0m\u001b[1;33m\u001b[0m\u001b[0m\n",
      "\u001b[1;31mKeyError\u001b[0m: 2",
      "\nDuring handling of the above exception, another exception occurred:\n",
      "\u001b[1;31mNetworkXError\u001b[0m                             Traceback (most recent call last)",
      "\u001b[1;32m<ipython-input-145-9343c2b0997a>\u001b[0m in \u001b[0;36m<module>\u001b[1;34m()\u001b[0m\n\u001b[1;32m----> 1\u001b[1;33m \u001b[0mlist\u001b[0m\u001b[1;33m(\u001b[0m\u001b[0mD\u001b[0m\u001b[1;33m.\u001b[0m\u001b[0mneighbors\u001b[0m\u001b[1;33m(\u001b[0m\u001b[1;36m2\u001b[0m\u001b[1;33m)\u001b[0m\u001b[1;33m)\u001b[0m\u001b[1;33m\u001b[0m\u001b[0m\n\u001b[0m",
      "\u001b[1;32mC:\\Users\\Nishu\\Anaconda3\\Lib\\site-packages\\networkx\\classes\\digraph.py\u001b[0m in \u001b[0;36msuccessors\u001b[1;34m(self, n)\u001b[0m\n\u001b[0;32m    781\u001b[0m             \u001b[1;32mreturn\u001b[0m \u001b[0miter\u001b[0m\u001b[1;33m(\u001b[0m\u001b[0mself\u001b[0m\u001b[1;33m.\u001b[0m\u001b[0m_succ\u001b[0m\u001b[1;33m[\u001b[0m\u001b[0mn\u001b[0m\u001b[1;33m]\u001b[0m\u001b[1;33m)\u001b[0m\u001b[1;33m\u001b[0m\u001b[0m\n\u001b[0;32m    782\u001b[0m         \u001b[1;32mexcept\u001b[0m \u001b[0mKeyError\u001b[0m\u001b[1;33m:\u001b[0m\u001b[1;33m\u001b[0m\u001b[0m\n\u001b[1;32m--> 783\u001b[1;33m             \u001b[1;32mraise\u001b[0m \u001b[0mNetworkXError\u001b[0m\u001b[1;33m(\u001b[0m\u001b[1;34m\"The node %s is not in the digraph.\"\u001b[0m \u001b[1;33m%\u001b[0m \u001b[1;33m(\u001b[0m\u001b[0mn\u001b[0m\u001b[1;33m,\u001b[0m\u001b[1;33m)\u001b[0m\u001b[1;33m)\u001b[0m\u001b[1;33m\u001b[0m\u001b[0m\n\u001b[0m\u001b[0;32m    784\u001b[0m \u001b[1;33m\u001b[0m\u001b[0m\n\u001b[0;32m    785\u001b[0m     \u001b[1;31m# digraph definitions\u001b[0m\u001b[1;33m\u001b[0m\u001b[1;33m\u001b[0m\u001b[0m\n",
      "\u001b[1;31mNetworkXError\u001b[0m: The node 2 is not in the digraph."
     ]
    }
   ],
   "source": [
    "# NetworkX throws an error if you try to access the neighbors of the nodes that are not in the Graph\n",
    "list(D.neighbors(2))"
   ]
  },
  {
   "cell_type": "code",
   "execution_count": 84,
   "metadata": {},
   "outputs": [
    {
     "name": "stdout",
     "output_type": "stream",
     "text": [
      "[47, 1, 1, 4, 1, 2, 3, 1, 1, 3, 1, 2, 2, 3, 5, 3, 5, 16, 3, 3, 1, 1, 8, 2, 1, 2, 22, 3, 3, 3, 1, 2, 1, 9, 11, 7, 2, 9, 2, 3, 1, 8, 2, 3, 1, 2, 5, 2, 12, 1, 1, 1, 1, 1, 1, 1, 1, 1, 1, 1, 1, 18, 7, 2, 3, 2, 1, 3, 5, 2, 2, 2, 2, 15, 4, 1, 2, 1, 1, 1, 2, 2, 9, 1, 1, 1, 1, 1, 1, 1, 1, 1, 7, 1, 1, 1, 1, 1, 1, 1]\n"
     ]
    }
   ],
   "source": [
    "# Compute the degree of every node: degrees\n",
    "degrees = [ len(G.neighbors(n)) for n in G.nodes()]\n",
    "\n",
    "# Print the degrees\n",
    "print(degrees)"
   ]
  },
  {
   "cell_type": "code",
   "execution_count": 81,
   "metadata": {
    "scrolled": true
   },
   "outputs": [
    {
     "data": {
      "text/plain": [
       "{1: 0.4747474747474748,\n",
       " 3: 0.010101010101010102,\n",
       " 4: 0.010101010101010102,\n",
       " 5: 0.04040404040404041,\n",
       " 6: 0.010101010101010102,\n",
       " 7: 0.020202020202020204,\n",
       " 8: 0.030303030303030304,\n",
       " 9: 0.010101010101010102,\n",
       " 10: 0.010101010101010102,\n",
       " 11: 0.030303030303030304,\n",
       " 12: 0.010101010101010102,\n",
       " 13: 0.020202020202020204,\n",
       " 14: 0.020202020202020204,\n",
       " 15: 0.030303030303030304,\n",
       " 16: 0.05050505050505051,\n",
       " 17: 0.030303030303030304,\n",
       " 18: 0.05050505050505051,\n",
       " 19: 0.16161616161616163,\n",
       " 20: 0.030303030303030304,\n",
       " 21: 0.030303030303030304,\n",
       " 22: 0.010101010101010102,\n",
       " 23: 0.010101010101010102,\n",
       " 24: 0.08080808080808081,\n",
       " 25: 0.020202020202020204,\n",
       " 26: 0.010101010101010102,\n",
       " 27: 0.020202020202020204,\n",
       " 28: 0.22222222222222224,\n",
       " 29: 0.030303030303030304,\n",
       " 30: 0.030303030303030304,\n",
       " 31: 0.030303030303030304,\n",
       " 32: 0.010101010101010102,\n",
       " 33: 0.020202020202020204,\n",
       " 34: 0.010101010101010102,\n",
       " 35: 0.09090909090909091,\n",
       " 36: 0.11111111111111112,\n",
       " 37: 0.07070707070707072,\n",
       " 38: 0.020202020202020204,\n",
       " 39: 0.09090909090909091,\n",
       " 40: 0.020202020202020204,\n",
       " 41: 0.030303030303030304,\n",
       " 42: 0.010101010101010102,\n",
       " 43: 0.08080808080808081,\n",
       " 44: 0.020202020202020204,\n",
       " 45: 0.030303030303030304,\n",
       " 46: 0.010101010101010102,\n",
       " 47: 0.020202020202020204,\n",
       " 48: 0.05050505050505051,\n",
       " 49: 0.020202020202020204,\n",
       " 50: 0.12121212121212122,\n",
       " 51: 0.010101010101010102,\n",
       " 52: 0.010101010101010102,\n",
       " 53: 0.010101010101010102,\n",
       " 54: 0.010101010101010102,\n",
       " 55: 0.010101010101010102,\n",
       " 56: 0.010101010101010102,\n",
       " 57: 0.010101010101010102,\n",
       " 58: 0.010101010101010102,\n",
       " 59: 0.010101010101010102,\n",
       " 60: 0.010101010101010102,\n",
       " 61: 0.010101010101010102,\n",
       " 62: 0.010101010101010102,\n",
       " 63: 0.18181818181818182,\n",
       " 64: 0.07070707070707072,\n",
       " 65: 0.020202020202020204,\n",
       " 66: 0.030303030303030304,\n",
       " 67: 0.020202020202020204,\n",
       " 68: 0.010101010101010102,\n",
       " 69: 0.030303030303030304,\n",
       " 70: 0.05050505050505051,\n",
       " 71: 0.020202020202020204,\n",
       " 72: 0.020202020202020204,\n",
       " 73: 0.020202020202020204,\n",
       " 74: 0.020202020202020204,\n",
       " 75: 0.15151515151515152,\n",
       " 76: 0.04040404040404041,\n",
       " 77: 0.010101010101010102,\n",
       " 78: 0.020202020202020204,\n",
       " 79: 0.010101010101010102,\n",
       " 80: 0.010101010101010102,\n",
       " 81: 0.010101010101010102,\n",
       " 82: 0.020202020202020204,\n",
       " 83: 0.020202020202020204,\n",
       " 84: 0.09090909090909091,\n",
       " 85: 0.010101010101010102,\n",
       " 86: 0.010101010101010102,\n",
       " 87: 0.010101010101010102,\n",
       " 88: 0.010101010101010102,\n",
       " 89: 0.010101010101010102,\n",
       " 90: 0.010101010101010102,\n",
       " 91: 0.010101010101010102,\n",
       " 92: 0.010101010101010102,\n",
       " 93: 0.010101010101010102,\n",
       " 94: 0.07070707070707072,\n",
       " 95: 0.010101010101010102,\n",
       " 96: 0.010101010101010102,\n",
       " 97: 0.010101010101010102,\n",
       " 98: 0.010101010101010102,\n",
       " 99: 0.010101010101010102,\n",
       " 100: 0.010101010101010102,\n",
       " 101: 0.010101010101010102}"
      ]
     },
     "execution_count": 81,
     "metadata": {},
     "output_type": "execute_result"
    }
   ],
   "source": [
    "# Finding the degree centrality of every node \n",
    "nx.degree_centrality(G)"
   ]
  },
  {
   "cell_type": "markdown",
   "metadata": {},
   "source": [
    "** Note: ** Degree centrality does not consider `self-loops`."
   ]
  },
  {
   "cell_type": "code",
   "execution_count": 82,
   "metadata": {
    "collapsed": true
   },
   "outputs": [],
   "source": [
    "# Define nodes_with_m_nbrs()\n",
    "def nodes_with_m_nbrs(G, m):\n",
    "    \n",
    "    nodes = set()\n",
    "    \n",
    "    for n in G.nodes():                       # Iterate over all nodes in G\n",
    "        if len(list(G.neighbors(n))) == m:    # Check if the number of neighbors of n matches m\n",
    "            nodes.add(n)                      # Add the node n to the set\n",
    "    return nodes                              # Return the nodes with m neighbors"
   ]
  },
  {
   "cell_type": "code",
   "execution_count": 83,
   "metadata": {},
   "outputs": [
    {
     "name": "stdout",
     "output_type": "stream",
     "text": [
      "{76, 5}\n"
     ]
    }
   ],
   "source": [
    "six_nbrs = nodes_with_m_nbrs(G, 4)            # Compute and print all nodes in T that have 6 neighbors\n",
    "print(six_nbrs)"
   ]
  },
  {
   "cell_type": "code",
   "execution_count": null,
   "metadata": {
    "collapsed": true
   },
   "outputs": [],
   "source": []
  },
  {
   "cell_type": "markdown",
   "metadata": {},
   "source": [
    "### Degree centrality distribution"
   ]
  },
  {
   "cell_type": "code",
   "execution_count": 85,
   "metadata": {},
   "outputs": [
    {
     "data": {
      "image/png": "[encoded data removed]",
      "text/plain": [
       "<Figure size 432x288 with 1 Axes>"
      ]
     },
     "metadata": {},
     "output_type": "display_data"
    }
   ],
   "source": [
    "# Import matplotlib.pyplot\n",
    "import matplotlib.pyplot as plt\n",
    "\n",
    "# Compute the degree centrality of the Twitter network: deg_cent\n",
    "deg_cent = nx.degree_centrality(G)\n",
    "\n",
    "# Compute the degree of every node: degrees\n",
    "degrees = [len(list(G.neighbors(n))) for n in G.nodes()]\n",
    "\n",
    "# Plot a scatter plot of the centrality and the nodes\n",
    "plt.figure()\n",
    "plt.scatter(x = degrees, y = list(deg_cent.values()))\n",
    "plt.show()"
   ]
  },
  {
   "cell_type": "code",
   "execution_count": 155,
   "metadata": {
    "collapsed": true
   },
   "outputs": [],
   "source": [
    "deg_cent = nx.degree_centrality(D)"
   ]
  },
  {
   "cell_type": "code",
   "execution_count": null,
   "metadata": {
    "collapsed": true
   },
   "outputs": [],
   "source": []
  },
  {
   "cell_type": "markdown",
   "metadata": {},
   "source": [
    "## VII. Graph Algorithms"
   ]
  },
  {
   "cell_type": "markdown",
   "metadata": {},
   "source": [
    "Graph Algorithms such as Bread First Search helps in finding paths:\n",
    "\n",
    "- Optimization (Shortest transport paths)\n",
    "- Modeling (Information passing, Finding path in which a disease is being spread)\n",
    "\n",
    "Pathfinding algorithms are important because they provide another way of assessing node importance."
   ]
  },
  {
   "cell_type": "code",
   "execution_count": 169,
   "metadata": {
    "collapsed": true
   },
   "outputs": [],
   "source": [
    "# Define path_exists()\n",
    "def path_exists(G, node1, node2):\n",
    "    \"\"\"\n",
    "    This function checks whether a path exists between two nodes (node1, node2) in graph G.\n",
    "    \"\"\"\n",
    "    visited_nodes = set()\n",
    "    \n",
    "    # Initialize the queue of cells to visit with the first node: queue\n",
    "    queue = [node1]\n",
    "    \n",
    "    # Iterate over the nodes in the queue\n",
    "    for node in queue:\n",
    "    \n",
    "        # Get neighbors of the node\n",
    "        neighbors = G.neighbors(node) \n",
    "        \n",
    "        # Check to see if the destination node is in the set of neighbors\n",
    "        if node2 in neighbors:\n",
    "            print('Path exists between nodes {0} and {1}'.format(node1, node2))\n",
    "            return True\n",
    "            break"
   ]
  },
  {
   "cell_type": "code",
   "execution_count": 170,
   "metadata": {
    "collapsed": true
   },
   "outputs": [],
   "source": [
    "def path_exists(G, node1, node2):\n",
    "    \"\"\"\n",
    "    This function checks whether a path exists between two nodes (node1, node2) in graph G.\n",
    "    \"\"\"\n",
    "    visited_nodes = set()\n",
    "    queue = [node1]\n",
    "    \n",
    "    for node in queue:  \n",
    "        neighbors = G.neighbors(node)\n",
    "        if node2 in neighbors:\n",
    "            print('Path exists between nodes {0} and {1}'.format(node1, node2))\n",
    "            return True\n",
    "            break\n",
    "        \n",
    "        else:\n",
    "            # Add current node to visited nodes\n",
    "            visited_nodes.add(node)\n",
    "            \n",
    "            # Add neighbors of current node that have not yet been visited\n",
    "            queue.extend([n for n in neighbors if n not in visited_nodes])"
   ]
  },
  {
   "cell_type": "code",
   "execution_count": 171,
   "metadata": {
    "collapsed": true
   },
   "outputs": [],
   "source": [
    "def path_exists(G, node1, node2):\n",
    "    \"\"\"\n",
    "    This function checks whether a path exists between two nodes (node1, node2) in graph G.\n",
    "    \"\"\"\n",
    "    visited_nodes = set()\n",
    "    queue = [node1]\n",
    "    \n",
    "    for node in queue:  \n",
    "        neighbors = G.neighbors(node)\n",
    "        if node2 in neighbors:\n",
    "            print('Path exists between nodes {0} and {1}'.format(node1, node2))\n",
    "            return True\n",
    "            break\n",
    "\n",
    "        else:\n",
    "            visited_nodes.add(node)\n",
    "            queue.extend([n for n in neighbors if n not in visited_nodes])\n",
    "        \n",
    "        # Check to see if the final element of the queue has been reached\n",
    "        if node == queue[-1]:\n",
    "            print('Path does not exist between nodes {0} and {1}'.format(node1, node2))\n",
    "\n",
    "            # Place the appropriate return statement\n",
    "            return False"
   ]
  },
  {
   "cell_type": "markdown",
   "metadata": {},
   "source": [
    "## VIII. Betweenness Centrality\n",
    "\n",
    "Betweeness Centrality is helpful in finding the shortest path and is defined as \n",
    "\n",
    "$$ \\frac{​​Number​​of​​shortest​​paths​​passing​​through​​a​​node​​}{​​Total​​Number​​of​​shortest​​paths​​} ​​$$\n",
    "\n",
    "Betweeness Centrality captures the bottle-neck nodes rather than highly connected nodes.\n",
    "\n",
    "Assume that you have two clusters in a network. Betweeness Centrality captures the nodes that connect these two clusters.\n",
    "\n",
    "<img src = \"img/Betweenness_Centrality.png\">\n",
    "\n",
    "**Application:**\n",
    "- Individuals that bridges two communities\n",
    "- Major subway stations connecting two parts of the city"
   ]
  },
  {
   "cell_type": "markdown",
   "metadata": {},
   "source": [
    "The above graph is called a bar-bell graph.\n",
    "\n",
    "- m1 = number of nodes in the bar-bell ends\n",
    "- m2 = number of nodes in the bridge connecting the two ends"
   ]
  },
  {
   "cell_type": "code",
   "execution_count": 172,
   "metadata": {},
   "outputs": [
    {
     "data": {
      "text/plain": [
       "{0: 0.0,\n",
       " 1: 0.0,\n",
       " 2: 0.0,\n",
       " 3: 0.0,\n",
       " 4: 0.5333333333333333,\n",
       " 5: 0.5555555555555556,\n",
       " 6: 0.5333333333333333,\n",
       " 7: 0.0,\n",
       " 8: 0.0,\n",
       " 9: 0.0,\n",
       " 10: 0.0}"
      ]
     },
     "execution_count": 172,
     "metadata": {},
     "output_type": "execute_result"
    }
   ],
   "source": [
    "# Creating a bar-bell graph\n",
    "G = nx.barbell_graph(m1 = 5, m2 = 1)\n",
    "nx.betweenness_centrality(G)"
   ]
  },
  {
   "cell_type": "markdown",
   "metadata": {},
   "source": [
    "** Note: ** You can see that there are nodes that have a betweenness centrality of 0. That is because they are located at the end of the bar-bell graphs and do not contribute to the shortest path as much as the 3 nodes in the middle do."
   ]
  },
  {
   "cell_type": "code",
   "execution_count": 173,
   "metadata": {},
   "outputs": [
    {
     "data": {
      "image/png": "[encoded data removed]",
      "text/plain": [
       "<Figure size 432x288 with 1 Axes>"
      ]
     },
     "metadata": {},
     "output_type": "display_data"
    }
   ],
   "source": [
    "# Compute the betweenness centrality of T: bet_cen\n",
    "bet_cen = nx.betweenness_centrality(G)\n",
    "\n",
    "# Compute the degree centrality of T: deg_cen\n",
    "deg_cen = nx.degree_centrality(G)\n",
    "\n",
    "# Create a scatter plot of betweenness centrality and degree centrality\n",
    "plt.scatter(x = list(bet_cen.values()), y = list(deg_cen.values()))\n",
    "\n",
    "# Display the plot\n",
    "plt.show()"
   ]
  },
  {
   "cell_type": "code",
   "execution_count": 176,
   "metadata": {},
   "outputs": [
    {
     "name": "stdout",
     "output_type": "stream",
     "text": [
      "{1}\n"
     ]
    }
   ],
   "source": [
    "# Define find_nodes_with_highest_deg_cent()\n",
    "def find_nodes_with_highest_deg_cent(G):\n",
    "\n",
    "    # Compute the degree centrality of G: deg_cent\n",
    "    deg_cent = nx.degree_centrality(G)\n",
    "    \n",
    "    # Compute the maximum degree centrality: max_dc\n",
    "    max_dc = max(list(deg_cent.values()))\n",
    "    \n",
    "    nodes = set()\n",
    "    \n",
    "    # Iterate over the degree centrality dictionary\n",
    "    for k, v in deg_cent.items():\n",
    "    \n",
    "        # Check if the current value has the maximum degree centrality\n",
    "        if v == max_dc:\n",
    "        \n",
    "            # Add the current node to the set of nodes\n",
    "            nodes.add(k)\n",
    "            \n",
    "    return nodes\n",
    "    \n",
    "# Find the node(s) that has the highest degree centrality in T: top_dc\n",
    "top_dc = find_nodes_with_highest_deg_cent(D)\n",
    "print(top_dc)"
   ]
  },
  {
   "cell_type": "code",
   "execution_count": 178,
   "metadata": {},
   "outputs": [
    {
     "name": "stdout",
     "output_type": "stream",
     "text": [
      "{16, 18}\n"
     ]
    }
   ],
   "source": [
    "# Define find_node_with_highest_bet_cent()\n",
    "def find_node_with_highest_bet_cent(G):\n",
    "\n",
    "    # Compute betweenness centrality: bet_cent\n",
    "    bet_cent = nx.betweenness_centrality(G)\n",
    "    \n",
    "    # Compute maximum betweenness centrality: max_bc\n",
    "    max_bc = max(list(bet_cent.values()))\n",
    "    \n",
    "    nodes = set()\n",
    "    \n",
    "    # Iterate over the betweenness centrality dictionary\n",
    "    for k, v in bet_cent.items():\n",
    "    \n",
    "        # Check if the current value has the maximum betweenness centrality\n",
    "        if v == max_bc:\n",
    "        \n",
    "            # Add the current node to the set of nodes\n",
    "            nodes.add(k)\n",
    "            \n",
    "    return nodes\n",
    "\n",
    "# Use that function to find the node(s) that has the highest betweenness centrality in the network: top_bc\n",
    "top_bc = find_node_with_highest_bet_cent(D)\n",
    "print(top_bc)"
   ]
  },
  {
   "cell_type": "code",
   "execution_count": null,
   "metadata": {
    "collapsed": true
   },
   "outputs": [],
   "source": []
  },
  {
   "cell_type": "markdown",
   "metadata": {},
   "source": [
    "## IX. Cliques & Communities\n",
    "\n",
    "This is very useful to analyze a sub-graph\n",
    "\n",
    "Social Clique: Tightly-knit groups\n",
    "Network Clique: Completely connected graphs\n",
    "\n",
    "<img src = \"img/Network_Clique.png\">"
   ]
  },
  {
   "cell_type": "markdown",
   "metadata": {},
   "source": [
    "**Application:**\n",
    "- Friend Recommendation System\n",
    "\n",
    "If A is friends with B and C, then it is highly likely that B and C know each other. This process of providing recommendations by connecting triangles is called a **'Triangle Closure'**.\n",
    "\n",
    "<img src = \"img/Friend_Recommendation_System.png\">"
   ]
  },
  {
   "cell_type": "code",
   "execution_count": 180,
   "metadata": {},
   "outputs": [
    {
     "name": "stdout",
     "output_type": "stream",
     "text": [
      "0 1\n",
      "0 2\n",
      "0 3\n",
      "0 4\n",
      "0 6\n",
      "0 7\n",
      "0 8\n",
      "0 9\n",
      "0 10\n",
      "0 5\n",
      "1 2\n",
      "1 3\n",
      "1 4\n",
      "1 6\n",
      "1 7\n",
      "1 8\n",
      "1 9\n",
      "1 10\n",
      "1 5\n",
      "2 3\n",
      "2 4\n",
      "2 6\n",
      "2 7\n",
      "2 8\n",
      "2 9\n",
      "2 10\n",
      "2 5\n",
      "3 4\n",
      "3 6\n",
      "3 7\n",
      "3 8\n",
      "3 9\n",
      "3 10\n",
      "3 5\n",
      "4 6\n",
      "4 7\n",
      "4 8\n",
      "4 9\n",
      "4 10\n",
      "4 5\n",
      "6 7\n",
      "6 8\n",
      "6 9\n",
      "6 10\n",
      "6 5\n",
      "7 8\n",
      "7 9\n",
      "7 10\n",
      "7 5\n",
      "8 9\n",
      "8 10\n",
      "8 5\n",
      "9 10\n",
      "9 5\n",
      "10 5\n"
     ]
    }
   ],
   "source": [
    "from itertools import combinations\n",
    "for n1, n2 in combinations(G.nodes(), 2):\n",
    "    print(n1, n2)"
   ]
  },
  {
   "cell_type": "code",
   "execution_count": 181,
   "metadata": {
    "collapsed": true
   },
   "outputs": [],
   "source": [
    "from itertools import combinations\n",
    "\n",
    "# Define is_in_triangle() \n",
    "def is_in_triangle(G, n):\n",
    "\n",
    "    in_triangle = False\n",
    "    \n",
    "    # Iterate over all possible triangle relationship combinations\n",
    "    for n1, n2 in combinations(G.neighbors(n), 2):\n",
    "    \n",
    "        # Check if an edge exists between n1 and n2\n",
    "        if G.has_edge(n1, n2):\n",
    "            in_triangle = True\n",
    "            break\n",
    "    return in_triangle"
   ]
  },
  {
   "cell_type": "code",
   "execution_count": 184,
   "metadata": {},
   "outputs": [
    {
     "name": "stdout",
     "output_type": "stream",
     "text": [
      "13\n"
     ]
    }
   ],
   "source": [
    "from itertools import combinations\n",
    "\n",
    "# Write a function that identifies all nodes in a triangle relationship with a given node.\n",
    "def nodes_in_triangle(G, n):\n",
    "\n",
    "    triangle_nodes = set([n])\n",
    "    \n",
    "    # Iterate over all possible triangle relationship combinations\n",
    "    for n1, n2 in combinations(G.neighbors(n), 2):\n",
    "    \n",
    "        # Check if n1 and n2 have an edge between them\n",
    "        if G.has_edge(n1, n2):\n",
    "        \n",
    "            # Add n1 to triangle_nodes\n",
    "            triangle_nodes.add(n1)\n",
    "            \n",
    "            # Add n2 to triangle_nodes\n",
    "            triangle_nodes.add(n2)\n",
    "            \n",
    "    return triangle_nodes\n",
    "    \n",
    "# Write the assertion statement\n",
    "print(len(nodes_in_triangle(D, 1)))"
   ]
  },
  {
   "cell_type": "code",
   "execution_count": 186,
   "metadata": {},
   "outputs": [
    {
     "name": "stdout",
     "output_type": "stream",
     "text": [
      "3\n"
     ]
    }
   ],
   "source": [
    "from itertools import combinations\n",
    "\n",
    "# Define node_in_open_triangle()\n",
    "def node_in_open_triangle(G, n):\n",
    "    \"\"\"\n",
    "    Checks whether pairs of neighbors of node `n` in graph `G` are in an 'open triangle' relationship with node `n`.\n",
    "    \"\"\"\n",
    "    in_open_triangle = False\n",
    "    \n",
    "    # Iterate over all possible triangle relationship combinations\n",
    "    for n1, n2 in combinations(G.neighbors(n), 2):\n",
    "    \n",
    "        # Check if n1 and n2 do NOT have an edge between them\n",
    "        if not G.has_edge(n1, n2):\n",
    "        \n",
    "            in_open_triangle = True\n",
    "            \n",
    "            break\n",
    "            \n",
    "    return in_open_triangle\n",
    "\n",
    "# Compute the number of open triangles in T\n",
    "num_open_triangles = 0\n",
    "\n",
    "# Iterate over all the nodes in T\n",
    "for n in G.nodes():\n",
    "\n",
    "    # Check if the current node is in an open triangle\n",
    "    if node_in_open_triangle(G, n):\n",
    "    \n",
    "        # Increment num_open_triangles\n",
    "        num_open_triangles += 1\n",
    "        \n",
    "print(num_open_triangles)"
   ]
  },
  {
   "cell_type": "markdown",
   "metadata": {},
   "source": []
  },
  {
   "cell_type": "markdown",
   "metadata": {},
   "source": [
    "## X. Maximal Cliques\n",
    "\n",
    "A maximal clique is a clique that cannot be extended any further by adding one nodes\n",
    "\n",
    "<img src = \"img/Maximal_Clique.png\">"
   ]
  },
  {
   "cell_type": "markdown",
   "metadata": {},
   "source": [
    "Let's go-back to the bar-bell graph:\n",
    "\n",
    "<img src = \"img/Betweenness_Centrality.png\">"
   ]
  },
  {
   "cell_type": "code",
   "execution_count": 187,
   "metadata": {},
   "outputs": [
    {
     "data": {
      "text/plain": [
       "<generator object find_cliques at 0x000000000F1BC0F8>"
      ]
     },
     "execution_count": 187,
     "metadata": {},
     "output_type": "execute_result"
    }
   ],
   "source": [
    "G = nx.barbell_graph(m1 = 5, m2 = 1)\n",
    "nx.find_cliques(G)"
   ]
  },
  {
   "cell_type": "code",
   "execution_count": 188,
   "metadata": {},
   "outputs": [
    {
     "data": {
      "text/plain": [
       "[[4, 0, 1, 2, 3], [4, 5], [6, 5], [6, 7, 8, 9, 10]]"
      ]
     },
     "execution_count": 188,
     "metadata": {},
     "output_type": "execute_result"
    }
   ],
   "source": [
    "list(nx.find_cliques(G))"
   ]
  },
  {
   "cell_type": "markdown",
   "metadata": {},
   "source": [
    "We notice that there are two maximal cliques here:\n",
    "\n",
    "<img src = \"img/Maximal_Clique_1.png\">"
   ]
  },
  {
   "cell_type": "code",
   "execution_count": null,
   "metadata": {
    "collapsed": true
   },
   "outputs": [],
   "source": []
  },
  {
   "cell_type": "markdown",
   "metadata": {},
   "source": [
    "## XI. Subgraphs\n",
    "\n",
    "Subgraphs are special form of cliques where each node does note have to connected to the other."
   ]
  },
  {
   "cell_type": "markdown",
   "metadata": {},
   "source": [
    "<strong> Erdos Renyi Graph </strong> can be created by specifying the number of nodes and the edges are drawn between them based on the probability we pass as an argument."
   ]
  },
  {
   "cell_type": "code",
   "execution_count": 224,
   "metadata": {},
   "outputs": [
    {
     "data": {
      "text/plain": [
       "NodeView((0, 1, 2, 3, 4, 5, 6, 7, 8, 9, 10, 11, 12, 13, 14, 15, 16, 17, 18, 19))"
      ]
     },
     "execution_count": 224,
     "metadata": {},
     "output_type": "execute_result"
    }
   ],
   "source": [
    "G = nx.erdos_renyi_graph(n = 20, p = 0.2)\n",
    "G.nodes()"
   ]
  },
  {
   "cell_type": "code",
   "execution_count": 225,
   "metadata": {},
   "outputs": [
    {
     "data": {
      "text/plain": [
       "EdgeView([(0, 1), (0, 8), (0, 13), (0, 19), (1, 4), (1, 15), (1, 16), (1, 18), (2, 4), (3, 6), (3, 7), (3, 8), (3, 17), (4, 5), (4, 7), (4, 8), (4, 12), (4, 14), (4, 17), (5, 15), (5, 16), (5, 18), (5, 19), (6, 10), (7, 16), (7, 17), (8, 9), (8, 16), (10, 15), (11, 13), (11, 18), (12, 15), (13, 15), (14, 15), (16, 17)])"
      ]
     },
     "execution_count": 225,
     "metadata": {},
     "output_type": "execute_result"
    }
   ],
   "source": [
    "G.edges()"
   ]
  },
  {
   "cell_type": "code",
   "execution_count": 226,
   "metadata": {
    "collapsed": true
   },
   "outputs": [],
   "source": [
    "# Neighboring Nodes\n",
    "nodes = G.neighbors(1)"
   ]
  },
  {
   "cell_type": "code",
   "execution_count": 227,
   "metadata": {},
   "outputs": [
    {
     "data": {
      "text/plain": [
       "<dict_keyiterator at 0xf22aef8>"
      ]
     },
     "execution_count": 227,
     "metadata": {},
     "output_type": "execute_result"
    }
   ],
   "source": [
    "# Returns a Dictionary\n",
    "nodes"
   ]
  },
  {
   "cell_type": "code",
   "execution_count": 228,
   "metadata": {
    "collapsed": true
   },
   "outputs": [],
   "source": [
    "# Converting a dictionary to a list\n",
    "nodes = list(nodes)"
   ]
  },
  {
   "cell_type": "code",
   "execution_count": 229,
   "metadata": {
    "collapsed": true
   },
   "outputs": [],
   "source": [
    "# Appending Node(8) to the list of nodes\n",
    "nodes.append(8)"
   ]
  },
  {
   "cell_type": "code",
   "execution_count": 230,
   "metadata": {
    "collapsed": true
   },
   "outputs": [],
   "source": [
    "# Create a subgraph with Neighboring nodes and Node 8\n",
    "G_eight = G.subgraph(nodes)"
   ]
  },
  {
   "cell_type": "code",
   "execution_count": 233,
   "metadata": {},
   "outputs": [
    {
     "data": {
      "text/plain": [
       "NodeView((0, 4, 8, 15, 16, 18))"
      ]
     },
     "execution_count": 233,
     "metadata": {},
     "output_type": "execute_result"
    }
   ],
   "source": [
    "# Neighboring Nodes\n",
    "G_eight.nodes()"
   ]
  },
  {
   "cell_type": "code",
   "execution_count": 231,
   "metadata": {},
   "outputs": [
    {
     "data": {
      "text/plain": [
       "EdgeView([(0, 8), (4, 8), (8, 16)])"
      ]
     },
     "execution_count": 231,
     "metadata": {},
     "output_type": "execute_result"
    }
   ],
   "source": [
    "# Edges with Node 8\n",
    "G_eight.edges()"
   ]
  },
  {
   "cell_type": "code",
   "execution_count": 232,
   "metadata": {},
   "outputs": [
    {
     "data": {
      "image/png": "[encoded data removed]",
      "text/plain": [
       "<Figure size 432x288 with 1 Axes>"
      ]
     },
     "metadata": {},
     "output_type": "display_data"
    }
   ],
   "source": [
    "nx.draw(G_eight, with_labels=True)\n",
    "plt.show()"
   ]
  },
  {
   "cell_type": "markdown",
   "metadata": {},
   "source": [
    "** Note: ** In the above graph, Node 18 and 15 are not connected because Node-8 does not share any edges with the. However, they are included in the graph since they are the neighbors of Node-8 "
   ]
  },
  {
   "cell_type": "code",
   "execution_count": null,
   "metadata": {
    "collapsed": true
   },
   "outputs": [],
   "source": []
  },
  {
   "cell_type": "markdown",
   "metadata": {},
   "source": [
    "## XII. Case Study"
   ]
  },
  {
   "cell_type": "markdown",
   "metadata": {},
   "source": [
    "### Data:\n",
    "\n",
    "- Github User Collaboration Network\n",
    "- Nodes: Users\n",
    "- Edges: Collaboration on same Github repository\n",
    "\n",
    "### Goal: \n",
    "1. Analyze Structure\n",
    "2. Visualize\n",
    "3. Build Simple Recommendation System to connect users"
   ]
  },
  {
   "cell_type": "code",
   "execution_count": null,
   "metadata": {
    "collapsed": true
   },
   "outputs": [],
   "source": []
  },
  {
   "cell_type": "code",
   "execution_count": null,
   "metadata": {
    "collapsed": true
   },
   "outputs": [],
   "source": []
  }
 ],
 "metadata": {
  "kernelspec": {
   "display_name": "Python 3",
   "language": "python",
   "name": "python3"
  },
  "language_info": {
   "codemirror_mode": {
    "name": "ipython",
    "version": 3
   },
   "file_extension": ".py",
   "mimetype": "text/x-python",
   "name": "python",
   "nbconvert_exporter": "python",
   "pygments_lexer": "ipython3",
   "version": "3.6.1"
  }
 },
 "nbformat": 4,
 "nbformat_minor": 2
}
